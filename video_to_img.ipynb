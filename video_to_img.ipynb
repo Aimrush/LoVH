{
 "nbformat": 4,
 "nbformat_minor": 0,
 "metadata": {
  "colab": {
   "name": "img_dataset_gen.ipynb",
   "provenance": [],
   "collapsed_sections": [],
   "mount_file_id": "1t8DXMNIGLfKuEi86Hya2KV8PzLOMff8p",
   "authorship_tag": "ABX9TyPrOEyiK7oY7P0gpA0qSbAY"
  },
  "kernelspec": {
   "display_name": "Python 3",
   "name": "python3"
  },
  "language_info": {
   "name": "python"
  }
 },
 "cells": [
  {
   "cell_type": "code",
   "source": [
    "# Created to run on Google Colab\n",
    "\n",
    "from google.colab import drive\n",
    "drive.mount('/content/drive')"
   ],
   "metadata": {
    "collapsed": false,
    "pycharm": {
     "name": "#%%\n",
     "is_executing": true
    }
   },
   "execution_count": null,
   "outputs": []
  },
  {
   "cell_type": "code",
   "execution_count": null,
   "outputs": [],
   "source": [
    "import cv2\n",
    "from google.colab.patches import cv2_imshow\n",
    "import math\n",
    "import pandas as pd\n",
    "\n",
    "import zipfile"
   ],
   "metadata": {
    "collapsed": false,
    "pycharm": {
     "name": "#%%\n"
    }
   }
  },
  {
   "cell_type": "code",
   "execution_count": null,
   "outputs": [],
   "source": [
    "# Update the file paths, names, etc\n",
    "\n",
    "path = 'drive/MyDrive/Data/'\n",
    "file_name_1 = \"video_list.txt\"\n",
    "\n",
    "# Load the video list\n",
    "video_list = pd.read_csv(path+file_name_1,delimiter=\"\\t\")\n",
    "\n",
    "# Zip file which will contain the frames and the TSV file which will contain the labels\n",
    "zip_name  = 'day_7.zip'\n",
    "txt_name = \"frames_day_7.txt\"\n",
    "\n",
    "# Path to videos in Google Drive and an example video name\n",
    "vid_path = 'drive/MyDrive/Data/lol_worlds_2020_groups/xxx/'\n",
    "file_name_0 = \"TSM vs GEN _ Worlds Group Stage Day 7 _ Team SoloMid vs Gen.G (2020).mp4\"\n",
    "\n",
    "\n",
    "cap = cv2.VideoCapture(vid_path+file_name_0)\n",
    "if (cap.isOpened()== False):\n",
    "  print(\"Error opening video  file\")\n",
    "\n",
    "frame_rate = cap.get(5)\n",
    "print(frame_rate)"
   ],
   "metadata": {
    "collapsed": false,
    "pycharm": {
     "name": "#%%\n"
    }
   }
  },
  {
   "cell_type": "code",
   "execution_count": null,
   "outputs": [],
   "source": [
    "# Get video id for current video\n",
    "id = video_list[(video_list.title == file_name_0)].id.values\n",
    "id = str(id[0])\n",
    "print(id)"
   ],
   "metadata": {
    "collapsed": false,
    "pycharm": {
     "name": "#%%\n"
    }
   }
  },
  {
   "cell_type": "code",
   "execution_count": null,
   "outputs": [],
   "source": [
    "# create zip if zip file !exist in drive\n",
    "zf = zipfile.ZipFile(path+zip_name, mode='w')\n",
    "zf.close()"
   ],
   "metadata": {
    "collapsed": false,
    "pycharm": {
     "name": "#%%\n"
    }
   }
  },
  {
   "cell_type": "code",
   "execution_count": null,
   "outputs": [],
   "source": [
    "# If zip exists in drive\n",
    "zf = zipfile.ZipFile(path+zip_name, mode='a')"
   ],
   "metadata": {
    "collapsed": false,
    "pycharm": {
     "name": "#%%\n"
    }
   }
  },
  {
   "cell_type": "code",
   "metadata": {
    "id": "9jkUxUhqTscs",
    "pycharm": {
     "name": "#%%\n"
    }
   },
   "source": [
    "count = 0\n",
    "frame_id = cap.get(1) \n",
    "frames = []\n",
    "labels = []\n",
    "\n",
    "# Read until video is completed\n",
    "while(cap.isOpened()):\n",
    "  frame_id = cap.get(1) \n",
    "\n",
    "  ret, frame = cap.read()\n",
    "  if ret != True:\n",
    "    print(\"Exit\", frame_id)\n",
    "    break\n",
    "\n",
    "  if frame_id % math.floor(frame_rate * 0.5) == 0 :\n",
    "    # resize to 720p\n",
    "    frame1 = cv2.resize(frame,(1280,720),fx=0,fy=0, interpolation = cv2.INTER_CUBIC)\n",
    "\n",
    "    frame_name = id+\"_%d.jpg\" % frame_id\n",
    "    # filename = path + \"frames_1/\"\n",
    "\n",
    "    cv2.imwrite(\"frame/\"+frame_name, frame1)\n",
    "    try:\n",
    "        zf.write(\"frame/\"+frame_name)\n",
    "    except:\n",
    "        print(\"Zip Fail!\")\n",
    "\n",
    "    count+=1\n",
    "    print(\"Saved: \", count)\n",
    "\n",
    "    frames.append(frame_name)\n",
    "    # All frames are labeled a default 0\n",
    "    labels.append(0)\n",
    "\n",
    "# release the video capture object\n",
    "cap.release()\n",
    "\n",
    "#close zip\n",
    "zf.close()\n",
    "\n",
    "df = pd.DataFrame()\n",
    "df['frame'] = frames\n",
    "df['label'] = labels\n",
    "\n",
    "# New file\n",
    "# df.to_csv(path+txt_name, sep ='\\t', index=False)\n",
    "\n",
    "# Append to file\n",
    "df.to_csv(path+txt_name, sep ='\\t', index=False, mode='a', header=False)"
   ],
   "execution_count": null,
   "outputs": []
  },
  {
   "cell_type": "code",
   "metadata": {
    "id": "K3fKQV2dpluC",
    "pycharm": {
     "name": "#%%\n"
    }
   },
   "source": [
    "!rm -rf frame"
   ],
   "execution_count": null,
   "outputs": []
  }
 ]
}