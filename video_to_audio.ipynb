{
 "cells": [
  {
   "cell_type": "code",
   "execution_count": 2,
   "metadata": {
    "collapsed": true,
    "pycharm": {
     "name": "#%%\n"
    }
   },
   "outputs": [],
   "source": [
    "from moviepy.editor import *"
   ]
  },
  {
   "cell_type": "code",
   "execution_count": 3,
   "outputs": [],
   "source": [
    "def mp4towav(mp4file,wavfile):\n",
    "    videoclip=VideoFileClip(mp4file)\n",
    "    audioclip=videoclip.audio\n",
    "    audioclip.write_audiofile(wavfile)\n",
    "    audioclip.close()\n",
    "    videoclip.close()"
   ],
   "metadata": {
    "collapsed": false,
    "pycharm": {
     "name": "#%%\n"
    }
   }
  },
  {
   "cell_type": "code",
   "execution_count": 4,
   "outputs": [],
   "source": [
    "# Enter path that contains the video\n",
    "path_v = \"\"\n",
    "# Enter path to place the audio\n",
    "path_a = \"\""
   ],
   "metadata": {
    "collapsed": false,
    "pycharm": {
     "name": "#%%\n"
    }
   }
  },
  {
   "cell_type": "code",
   "execution_count": null,
   "outputs": [],
   "source": [
    "# mp4towav(path_v+\"DRX vs TES _ Worlds Group Stage Day 8 _ DRX vs Top Esports (2020).mp4\", path_a+\"DRX vs TES _ Worlds Group Stage Day 8 _ DRX vs Top Esports (2020).wav\")\n",
    "#\n",
    "# mp4towav(path_v+\"DRX vs UOL _ Worlds Group Stage Day 8 _ DRX vs Unicorns Of Love (2020).mp4\", path_a+\"DRX vs UOL _ Worlds Group Stage Day 8 _ DRX vs Unicorns Of Love (2020).wav\")\n",
    "#\n",
    "# mp4towav(path_v+\"FLY vs DRX _ Worlds Group Stage Day 8 _ FlyQuest vs DRX (2020).mp4\", path_a+\"DFLY vs DRX _ Worlds Group Stage Day 8 _ FlyQuest vs DRX (2020).wav\")\n",
    "#\n",
    "# mp4towav(path_v+\"TES vs FLY _ Worlds Group Stage Day 8 _ Top Esports vs FlyQuest (2020).mp4\", path_a+\"TES vs FLY _ Worlds Group Stage Day 8 _ Top Esports vs FlyQuest (2020).wav\")\n",
    "#\n",
    "# mp4towav(path_v+\"UOL vs FLY _ Worlds Group Stage Day 8 _ Unicorns Of Love vs FlyQuest (2020).mp4\", path_a+\"UOL vs FLY _ Worlds Group Stage Day 8 _ Unicorns Of Love vs FlyQuest (2020).wav\")\n",
    "\n",
    "mp4towav(path_v+\"UOL vs TES _ Worlds Group Stage Day 8 _ Unicorns Of Love vs Top Esports (2020).mp4\", path_a+\"UOL vs TES _ Worlds Group Stage Day 8 _ Unicorns Of Love vs Top Esports (2020).wav\")"
   ],
   "metadata": {
    "collapsed": false,
    "pycharm": {
     "name": "#%%\n",
     "is_executing": true
    }
   }
  }
 ],
 "metadata": {
  "kernelspec": {
   "display_name": "Python 3",
   "language": "python",
   "name": "python3"
  },
  "language_info": {
   "codemirror_mode": {
    "name": "ipython",
    "version": 2
   },
   "file_extension": ".py",
   "mimetype": "text/x-python",
   "name": "python",
   "nbconvert_exporter": "python",
   "pygments_lexer": "ipython2",
   "version": "2.7.6"
  }
 },
 "nbformat": 4,
 "nbformat_minor": 0
}